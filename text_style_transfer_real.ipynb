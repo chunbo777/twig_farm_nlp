{
  "nbformat": 4,
  "nbformat_minor": 0,
  "metadata": {
    "colab": {
      "name": "text_style_transfer_real.ipynb",
      "provenance": [],
      "authorship_tag": "ABX9TyMNAjcwztHszTj0jERhfQnH",
      "include_colab_link": true
    },
    "kernelspec": {
      "name": "python3",
      "display_name": "Python 3"
    },
    "language_info": {
      "name": "python"
    }
  },
  "cells": [
    {
      "cell_type": "markdown",
      "metadata": {
        "id": "view-in-github",
        "colab_type": "text"
      },
      "source": [
        "<a href=\"https://colab.research.google.com/github/chunbo777/twig_farm_nlp/blob/main/text_style_transfer_real.ipynb\" target=\"_parent\"><img src=\"https://colab.research.google.com/assets/colab-badge.svg\" alt=\"Open In Colab\"/></a>"
      ]
    },
    {
      "cell_type": "code",
      "metadata": {
        "colab": {
          "base_uri": "https://localhost:8080/"
        },
        "id": "V1ut_Nor4sKP",
        "outputId": "ccc791d5-e8da-4be0-930d-ad9258e27cc5"
      },
      "source": [
        "!git clone https://github.com/eomiso/NLP_text-style-transfer"
      ],
      "execution_count": 1,
      "outputs": [
        {
          "output_type": "stream",
          "text": [
            "Cloning into 'NLP_text-style-transfer'...\n",
            "remote: Enumerating objects: 605, done.\u001b[K\n",
            "remote: Counting objects: 100% (605/605), done.\u001b[K\n",
            "remote: Compressing objects: 100% (242/242), done.\u001b[K\n",
            "remote: Total 605 (delta 358), reused 598 (delta 355), pack-reused 0\u001b[K\n",
            "Receiving objects: 100% (605/605), 37.00 MiB | 21.71 MiB/s, done.\n",
            "Resolving deltas: 100% (358/358), done.\n"
          ],
          "name": "stdout"
        }
      ]
    },
    {
      "cell_type": "code",
      "metadata": {
        "colab": {
          "base_uri": "https://localhost:8080/"
        },
        "id": "jabtTyZSCnWz",
        "outputId": "8dfd028d-feac-438e-8a92-981f1d5c59b0"
      },
      "source": [
        "!pwd"
      ],
      "execution_count": 3,
      "outputs": [
        {
          "output_type": "stream",
          "text": [
            "/content\n"
          ],
          "name": "stdout"
        }
      ]
    },
    {
      "cell_type": "code",
      "metadata": {
        "colab": {
          "base_uri": "https://localhost:8080/"
        },
        "id": "tB87pJITCo_p",
        "outputId": "8926a58a-2cee-461c-9866-4a4820e854e8"
      },
      "source": [
        "%cd /content/NLP_text-style-transfer"
      ],
      "execution_count": 4,
      "outputs": [
        {
          "output_type": "stream",
          "text": [
            "/content/NLP_text-style-transfer\n"
          ],
          "name": "stdout"
        }
      ]
    },
    {
      "cell_type": "code",
      "metadata": {
        "colab": {
          "base_uri": "https://localhost:8080/"
        },
        "id": "diKfgomDCwuS",
        "outputId": "23e2ce05-20b8-497e-ad87-599d230e0b02"
      },
      "source": [
        "!pip install transformers"
      ],
      "execution_count": 8,
      "outputs": [
        {
          "output_type": "stream",
          "text": [
            "Collecting transformers\n",
            "  Downloading transformers-4.9.2-py3-none-any.whl (2.6 MB)\n",
            "\u001b[K     |████████████████████████████████| 2.6 MB 8.5 MB/s \n",
            "\u001b[?25hRequirement already satisfied: importlib-metadata in /usr/local/lib/python3.7/dist-packages (from transformers) (4.6.4)\n",
            "Requirement already satisfied: packaging in /usr/local/lib/python3.7/dist-packages (from transformers) (21.0)\n",
            "Requirement already satisfied: numpy>=1.17 in /usr/local/lib/python3.7/dist-packages (from transformers) (1.19.5)\n",
            "Collecting tokenizers<0.11,>=0.10.1\n",
            "  Downloading tokenizers-0.10.3-cp37-cp37m-manylinux_2_5_x86_64.manylinux1_x86_64.manylinux_2_12_x86_64.manylinux2010_x86_64.whl (3.3 MB)\n",
            "\u001b[K     |████████████████████████████████| 3.3 MB 41.2 MB/s \n",
            "\u001b[?25hRequirement already satisfied: regex!=2019.12.17 in /usr/local/lib/python3.7/dist-packages (from transformers) (2019.12.20)\n",
            "Requirement already satisfied: filelock in /usr/local/lib/python3.7/dist-packages (from transformers) (3.0.12)\n",
            "Requirement already satisfied: tqdm>=4.27 in /usr/local/lib/python3.7/dist-packages (from transformers) (4.62.0)\n",
            "Collecting huggingface-hub==0.0.12\n",
            "  Downloading huggingface_hub-0.0.12-py3-none-any.whl (37 kB)\n",
            "Collecting sacremoses\n",
            "  Downloading sacremoses-0.0.45-py3-none-any.whl (895 kB)\n",
            "\u001b[K     |████████████████████████████████| 895 kB 58.1 MB/s \n",
            "\u001b[?25hRequirement already satisfied: requests in /usr/local/lib/python3.7/dist-packages (from transformers) (2.23.0)\n",
            "Collecting pyyaml>=5.1\n",
            "  Downloading PyYAML-5.4.1-cp37-cp37m-manylinux1_x86_64.whl (636 kB)\n",
            "\u001b[K     |████████████████████████████████| 636 kB 56.7 MB/s \n",
            "\u001b[?25hRequirement already satisfied: typing-extensions in /usr/local/lib/python3.7/dist-packages (from huggingface-hub==0.0.12->transformers) (3.7.4.3)\n",
            "Requirement already satisfied: pyparsing>=2.0.2 in /usr/local/lib/python3.7/dist-packages (from packaging->transformers) (2.4.7)\n",
            "Requirement already satisfied: zipp>=0.5 in /usr/local/lib/python3.7/dist-packages (from importlib-metadata->transformers) (3.5.0)\n",
            "Requirement already satisfied: chardet<4,>=3.0.2 in /usr/local/lib/python3.7/dist-packages (from requests->transformers) (3.0.4)\n",
            "Requirement already satisfied: certifi>=2017.4.17 in /usr/local/lib/python3.7/dist-packages (from requests->transformers) (2021.5.30)\n",
            "Requirement already satisfied: urllib3!=1.25.0,!=1.25.1,<1.26,>=1.21.1 in /usr/local/lib/python3.7/dist-packages (from requests->transformers) (1.24.3)\n",
            "Requirement already satisfied: idna<3,>=2.5 in /usr/local/lib/python3.7/dist-packages (from requests->transformers) (2.10)\n",
            "Requirement already satisfied: click in /usr/local/lib/python3.7/dist-packages (from sacremoses->transformers) (7.1.2)\n",
            "Requirement already satisfied: joblib in /usr/local/lib/python3.7/dist-packages (from sacremoses->transformers) (1.0.1)\n",
            "Requirement already satisfied: six in /usr/local/lib/python3.7/dist-packages (from sacremoses->transformers) (1.15.0)\n",
            "Installing collected packages: tokenizers, sacremoses, pyyaml, huggingface-hub, transformers\n",
            "  Attempting uninstall: pyyaml\n",
            "    Found existing installation: PyYAML 3.13\n",
            "    Uninstalling PyYAML-3.13:\n",
            "      Successfully uninstalled PyYAML-3.13\n",
            "Successfully installed huggingface-hub-0.0.12 pyyaml-5.4.1 sacremoses-0.0.45 tokenizers-0.10.3 transformers-4.9.2\n"
          ],
          "name": "stdout"
        }
      ]
    },
    {
      "cell_type": "markdown",
      "metadata": {
        "id": "HQ_dyVRlGRhH"
      },
      "source": [
        ""
      ]
    },
    {
      "cell_type": "code",
      "metadata": {
        "colab": {
          "base_uri": "https://localhost:8080/"
        },
        "id": "VCbVaNJM4xSe",
        "outputId": "fc832b82-1884-4716-f05a-fad5465b7c8f"
      },
      "source": [
        "!python transfer.py --ckpt_path ../content --clf_ckpt_path ../content --dataset yelp\n",
        "                "
      ],
      "execution_count": 12,
      "outputs": [
        {
          "output_type": "stream",
          "text": [
            "------------------------------------------------\n",
            "{   'batch_size': 64,\n",
            "    'ckpt_path': '../content',\n",
            "    'clf_ckpt_path': 'checkpoints/yelp_clf.pt',\n",
            "    'cuda_device': 0,\n",
            "    'dataset': 'yelp',\n",
            "    'device': device(type='cpu'),\n",
            "    'dim_emb': 768,\n",
            "    'dim_y': 200,\n",
            "    'dim_z': 500,\n",
            "    'disc_lr': 5e-05,\n",
            "    'epochs': 20,\n",
            "    'filter_sizes': [1, 2, 3, 4, 5],\n",
            "    'gan_type': 'vanilla',\n",
            "    'gp_weight': 1.0,\n",
            "    'language': 'en',\n",
            "    'load_ckpt': 'ckpts/wgan_no_threshold.pt',\n",
            "    'log_interval': 100,\n",
            "    'lr': 0.0005,\n",
            "    'max_grad_norm': 1.0,\n",
            "    'max_seq_length': 64,\n",
            "    'mode': 'train',\n",
            "    'n_filters': 128,\n",
            "    'n_samples': 1000,\n",
            "    'num_workers': 4,\n",
            "    'rho': 1,\n",
            "    'second_stage_num': 2,\n",
            "    'temperature': 0.1,\n",
            "    'test_text_path': 'data/yelp/yelp.sentiment.test',\n",
            "    'text_file_path': 'data/yelp/yelp.sentiment.train',\n",
            "    'threshold': None,\n",
            "    'transfer_max_len': 64,\n",
            "    'transfer_result_save_path': None,\n",
            "    'transfer_to': 1,\n",
            "    'two_stage': False,\n",
            "    'use_gumbel': True,\n",
            "    'val_text_file_path': 'data/yelp/yelp.sentiment.val',\n",
            "    'weight_decay': 0.0}\n",
            "------------------------------------------------\n",
            "Downloading: 100% 29.0/29.0 [00:00<00:00, 27.5kB/s]\n",
            "Downloading: 100% 570/570 [00:00<00:00, 495kB/s]\n",
            "Downloading: 100% 213k/213k [00:00<00:00, 1.06MB/s]\n",
            "Downloading: 100% 436k/436k [00:00<00:00, 1.52MB/s]\n",
            "Downloading: 100% 436M/436M [00:08<00:00, 50.7MB/s]\n",
            "Some weights of the model checkpoint at bert-base-cased were not used when initializing BertModel: ['cls.predictions.bias', 'cls.predictions.transform.dense.weight', 'cls.seq_relationship.weight', 'cls.predictions.transform.dense.bias', 'cls.predictions.transform.LayerNorm.bias', 'cls.predictions.transform.LayerNorm.weight', 'cls.predictions.decoder.weight', 'cls.seq_relationship.bias']\n",
            "- This IS expected if you are initializing BertModel from the checkpoint of a model trained on another task or with another architecture (e.g. initializing a BertForSequenceClassification model from a BertForPreTraining model).\n",
            "- This IS NOT expected if you are initializing BertModel from the checkpoint of a model that you expect to be exactly identical (initializing a BertForSequenceClassification model from a BertForSequenceClassification model).\n"
          ],
          "name": "stdout"
        }
      ]
    },
    {
      "cell_type": "code",
      "metadata": {
        "id": "junE3i2PFq9i"
      },
      "source": [
        "!python transfer.py --train ../data/yelp/yelp.sentiment.train --dev ../data/yelp/sentiment.dev --output ../tmp/sentiment.dev --vocab ../tmp/yelp.vocab --model ../tmp/model\n"
      ],
      "execution_count": null,
      "outputs": []
    },
    {
      "cell_type": "code",
      "metadata": {
        "id": "aEcDrq1HClq_"
      },
      "source": [
        "from tqdm import tqdm\n",
        "import torch\n",
        "\n",
        "from bert_pretrained import bert_tokenizer\n",
        "from options import args\n",
        "\n",
        "\n",
        "def style_transfer(encoder=None, generator=None, text_path=None, n_samples=100):\n",
        "    # save result if path is given\n",
        "    if args.transfer_result_save_path is not None:\n",
        "        fw = open(args.transfer_result_save_path, 'a')\n",
        "    else:\n",
        "        fw = None\n",
        "\n",
        "    # interactive mode\n",
        "    if text_path is None:\n",
        "        if fw is not None:\n",
        "            fw.write('\\n' + \"=\" * 50 + '\\n')\n",
        "            fw.write(\"Interactive transfer from {} -> {}\\n\".format(\n",
        "                str(1 - args.transfer_to),\n",
        "                str(args.transfer_to)\n",
        "            ))\n",
        "            fw.write(\"=\" * 50 + '\\n')\n",
        "        try:\n",
        "            while True:\n",
        "                fmt = \"Enter text to transfer to style {} (Ctrl+C to exit): \"\n",
        "                text = input(fmt.format(args.transfer_to))\n",
        "                tokens = bert_tokenizer.encode(text, add_special_tokens=False)\n",
        "                tokens = (\n",
        "                    [bert_tokenizer.bos_token_id]\n",
        "                    + tokens\n",
        "                    + [bert_tokenizer.eos_token_id]\n",
        "                )\n",
        "                tokens = torch.LongTensor([tokens]).transpose(0, 1)\n",
        "                original_label = torch.FloatTensor([1 - args.transfer_to])\n",
        "                output = generate_text(\n",
        "                    encoder.to(args.device),\n",
        "                    generator.to(args.device),\n",
        "                    original_label.to(args.device),\n",
        "                    tokens.to(args.device)\n",
        "                )\n",
        "                print(\"Transfer result:\", output)\n",
        "                if fw is not None:\n",
        "                    fw.write(text + ' -> ' + output + '\\n')\n",
        "\n",
        "        except KeyboardInterrupt:\n",
        "            if fw is not None:\n",
        "                fw.close()\n",
        "            print(\"\\nEnd interactive transfer\\n\")\n",
        "\n",
        "    # load data from text path\n",
        "    else:\n",
        "        if fw is not None:\n",
        "            fw.write('\\n' + \"=\" * 50 + '\\n')\n",
        "            fw.write(\"Transfer from file: {}\\n\".format(text_path))\n",
        "            fw.write(\"Number of samples: {}\\n\".format(n_samples))\n",
        "            fw.write(\"=\" * 50 + '\\n')\n",
        "\n",
        "        pbar = tqdm(total=n_samples)\n",
        "        counter = 0\n",
        "        inputs0, inputs1 = [], []\n",
        "        outputs0, outputs1 = [], []\n",
        "        with open(text_path, 'r') as text_file:\n",
        "            for line in text_file:\n",
        "                counter += 1\n",
        "                if counter == 1:\n",
        "                    continue\n",
        "                _, text, label = line.strip().split('\\t')\n",
        "                tokens = bert_tokenizer.encode(text, add_special_tokens=False)\n",
        "                tokens = (\n",
        "                    [bert_tokenizer.bos_token_id]\n",
        "                    + tokens\n",
        "                    + [bert_tokenizer.eos_token_id]\n",
        "                )\n",
        "                tokens = torch.LongTensor([tokens]).transpose(0, 1)\n",
        "                original_label = torch.FloatTensor([int(label)])\n",
        "                output = generate_text(\n",
        "                    encoder.to(args.device),\n",
        "                    generator.to(args.device),\n",
        "                    original_label.to(args.device),\n",
        "                    tokens.to(args.device)\n",
        "                )\n",
        "                if int(label) == 0:\n",
        "                    inputs0.append(text)\n",
        "                    outputs0.append(output)\n",
        "                else:\n",
        "                    inputs1.append(text)\n",
        "                    outputs1.append(output)\n",
        "                pbar.update()\n",
        "                if fw is not None:\n",
        "                    fw.write(label + ' > ' + str(1-int(label)) + ': '+ text + ' -> ' + output + '\\n')\n",
        "                if counter > n_samples:\n",
        "                    break\n",
        "\n",
        "        if fw is not None:\n",
        "            fw.close()\n",
        "        return inputs0, inputs1, outputs0, outputs1\n",
        "\n",
        "\n",
        "def generate_text(encoder, generator, original_label, tokens):\n",
        "    src_len = [len(tokens)]\n",
        "    predictions = generator.transfer(\n",
        "        encoder(original_label, tokens, src_len),  # hidden state\n",
        "        1 - original_label,  # transfer label\n",
        "        eos_token_id=bert_tokenizer.eos_token_id,\n",
        "        max_len=args.transfer_max_len\n",
        "    )\n",
        "    # change this part to first occurence of ber_tokenizer.eos_token_id\n",
        "    #if predictions[-1] == bert_tokenizer.eos_token_id:\n",
        "    #    predictions = predictions[:-1]\n",
        "\n",
        "    try:\n",
        "        eos_idx = predictions.index(bert_tokenizer.eos_token_id)\n",
        "        predictions = predictions[:eos_idx]\n",
        "    except ValueError:\n",
        "        predictions=predictions[:-1]\n",
        "    return bert_tokenizer.decode(predictions)\n",
        "\n",
        "\n",
        "# def _transfer():\n",
        "#     device = torch.device('cuda:{}'.format(args.cuda_device) if torch.cuda.is_available() else 'cpu')\n",
        "    \n",
        "#     # 1. get model\n",
        "#     embedding = get_bert_word_embedding().to(device).eval()\n",
        "#     encoder = Encoder(embedding, args.dim_y, args.dim_z).to(device).eval()\n",
        "#     generator = Generator(embedding, args.dim_y, args.dim_z, args.temperature, bert_tokenizer.bos_token_id, use_gumbel=args.use_gumbel).to(device).eval()\n",
        "    \n",
        "#     # 2. load checkpoint\n",
        "#     ckpt = torch.load(args.ckpt_path, map_location=device)\n",
        "#     embedding.load_state_dict(ckpt['embedding_state_dict'])\n",
        "#     encoder.load_state_dict(ckpt['encoder_state_dict'])\n",
        "#     generator.load_state_dict(ckpt['generator_state_dict'])\n",
        "    \n",
        "#     # 3. transfer!\n",
        "#     if args.transfer_result_save_path is not None:\n",
        "#         fw = open(args.transfer_result_save_path, 'w')\n",
        "#     else:\n",
        "#         fw = None\n",
        "            \n",
        "#     if args.test_text_path is None:\n",
        "#         # interactive mode\n",
        "#         while True:\n",
        "#             text = input(\"Enter text to transfer to stye {} (Ctrl+C to exit): \".format(args.transfer_to))\n",
        "#             text_tokens = [bert_tokenizer.bos_token_id] + bert_tokenizer.encode(text, add_special_tokens=False) + [bert_tokenizer.eos_token_id]\n",
        "#             text_tokens_tensor = torch.LongTensor([text_tokens]).transpose(0, 1).to(device)\n",
        "#             src_len = [len(text_tokens)]\n",
        "#             original_label = torch.FloatTensor([1-args.transfer_to]).to(device)\n",
        "#             transfer_label = torch.FloatTensor([args.transfer_to]).to(device)\n",
        "            \n",
        "#             z = encoder(original_label, text_tokens_tensor, src_len)\n",
        "#             predictions = generator.transfer(z, transfer_label, eos_token_id=bert_tokenizer.eos_token_id, max_len=args.transfer_max_len)\n",
        "#             if predictions[-1] == bert_tokenizer.eos_token_id:\n",
        "#                 predictions = predictions[:-1]\n",
        "                \n",
        "#             result = bert_tokenizer.decode(predictions)\n",
        "#             print(\"Transfer Result:\", result)\n",
        "#             if fw is not None:\n",
        "#                 fw.write(text + ' -> ' + result + '\\n')\n",
        "                \n",
        "#             if args.test_recon:\n",
        "#                 recon = generator.transfer(z, original_label, eos_token_id=bert_tokenizer.eos_token_id, max_len=args.transfer_max_len)\n",
        "#                 if recon[-1] == bert_tokenizer.eos_token_id:\n",
        "#                     recon = recon[:-1]\n",
        "#                 print(\"Recon:\", bert_tokenizer.decode(recon))\n",
        "            \n",
        "#     else:\n",
        "\n",
        "#         for line in args.test_text_path:\n",
        "#             line = line.strip()\n",
        "#             text = line\n",
        "#             text_tokens = [bert_tokenizer.bos_token_id] + bert_tokenizer.encode(text, add_special_tokens=False) + [bert_tokenizer.eos_token_id]\n",
        "#             text_tokens_tensor = torch.LongTensor([text_tokens]).transpose(0, 1).to(device)\n",
        "#             src_len = [len(text_tokens)]\n",
        "#             original_label = torch.FloatTensor([1-args.transfer_to]).to(device)\n",
        "#             transfer_label = torch.FloatTensor([args.transfer_to]).to(device)\n",
        "            \n",
        "#             z = encoder(original_label, text_tokens_tensor, src_len)\n",
        "#             predictions = generator.transfer(z, transfer_label, eos_token_id=bert_tokenizer.eos_token_id, max_len=args.transfer_max_len)\n",
        "#             if predictions[-1] == bert_tokenizer.eos_token_id:\n",
        "#                 predictions = predictions[:-1]\n",
        "                \n",
        "#             result = bert_tokenizer.decode(predictions)\n",
        "#             print(\"Transfer Result:\", result)\n",
        "#             if fw is not None:\n",
        "#                 fw.write(text + ' -> ' + result + '\\n')\n",
        "                \n",
        "#             if args.test_recon:\n",
        "#                 recon = generator.transfer(z, original_label, eos_token_id=bert_tokenizer.eos_token_id, max_len=args.transfer_max_len)\n",
        "#                 if recon[-1] == bert_tokenizer.eos_token_id:\n",
        "#                     recon = recon[:-1]\n",
        "#                 print(\"Recon:\", bert_tokenizer.decode(recon))\n",
        "            \n",
        "# if __name__ == '__main__':\n",
        "#     transfer()\n"
      ],
      "execution_count": null,
      "outputs": []
    }
  ]
}